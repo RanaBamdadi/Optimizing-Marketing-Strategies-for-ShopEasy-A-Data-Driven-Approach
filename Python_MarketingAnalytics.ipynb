{
 "cells": [
  {
   "cell_type": "code",
   "execution_count": 1,
   "id": "3fdd8e3c-e0e7-4680-8c20-4edd05105309",
   "metadata": {},
   "outputs": [],
   "source": [
    "import pandas as pd\n",
    "import nltk\n",
    "from nltk.sentiment.vader import SentimentIntensityAnalyzer\n",
    "import pypyodbc as odbc #pip install pypyodbc"
   ]
  },
  {
   "cell_type": "code",
   "execution_count": 2,
   "id": "82369341-0503-4f32-89e5-9714a0419d5c",
   "metadata": {},
   "outputs": [
    {
     "name": "stderr",
     "output_type": "stream",
     "text": [
      "[nltk_data] Downloading package vader_lexicon to C:\\Users\\Shabnam.DESK\n",
      "[nltk_data]     TOP-2KB2A0V\\AppData\\Roaming\\nltk_data...\n",
      "[nltk_data]   Package vader_lexicon is already up-to-date!\n"
     ]
    },
    {
     "data": {
      "text/plain": [
       "True"
      ]
     },
     "execution_count": 2,
     "metadata": {},
     "output_type": "execute_result"
    }
   ],
   "source": [
    "# Download the VADER lexicon for sentiment analysis if not already present.\n",
    "nltk.download('vader_lexicon')"
   ]
  },
  {
   "cell_type": "code",
   "execution_count": 3,
   "id": "27b30817-ac37-4b55-9abc-baf77bb102d4",
   "metadata": {},
   "outputs": [
    {
     "name": "stderr",
     "output_type": "stream",
     "text": [
      "C:\\Users\\Shabnam.DESKTOP-2KB2A0V\\AppData\\Local\\Temp\\ipykernel_5944\\1242625649.py:24: UserWarning: pandas only supports SQLAlchemy connectable (engine/connection) or database string URI or sqlite3 DBAPI2 connection. Other DBAPI2 objects are not tested. Please consider using SQLAlchemy.\n",
      "  df = pd.read_sql(query, conn)\n"
     ]
    },
    {
     "name": "stdout",
     "output_type": "stream",
     "text": [
      "   reviewid  customerid  productid  reviewdate  rating  \\\n",
      "0         1          77         18  2023-12-23       3   \n",
      "1         2          80         19  2024-12-25       5   \n",
      "2         3          50         13  2025-01-26       4   \n",
      "3         4          78         15  2025-04-21       3   \n",
      "4         5          64          2  2023-07-16       3   \n",
      "\n",
      "                                 reviewtext  \n",
      "0   Average  experience,  nothing  special.  \n",
      "1            The  quality  is    top-notch.  \n",
      "2   Five  stars  for  the  quick  delivery.  \n",
      "3  Good  quality,  but  could  be  cheaper.  \n",
      "4   Average  experience,  nothing  special.  \n"
     ]
    }
   ],
   "source": [
    "# Define the connection parameters\n",
    "Driver_name = \"SQL Server\"\n",
    "Server_name = \"DESKTOP-2KB2A0V\\\\SQLEXPRESS\"\n",
    "Database_name = \"MarketingAnalytics\"\n",
    "\n",
    "# Define a function to fetch data from a SQL database using a SQL query\n",
    "def fetch_data_from_sql():\n",
    "    connection_string = f\"\"\"\n",
    "    DRIVER={{{Driver_name}}};\n",
    "    SERVER={Server_name};\n",
    "    DATABASE={Database_name};\n",
    "    Trust_Connection=yes;\n",
    "    \"\"\"\n",
    "    \n",
    "    # Establish the connection to the database\n",
    "    conn = odbc.connect(connection_string)\n",
    "\n",
    "    # Define the SQL query to fetch customer reviews data\n",
    "    query = \"SELECT ReviewID, CustomerID, ProductID, ReviewDate, Rating, ReviewText FROM customer_reviews\"\n",
    "\n",
    "    # Execute the query and fetch the data into a DataFrame\n",
    "    df = pd.read_sql(query, conn)\n",
    "\n",
    "    # Close the connection to free up resources\n",
    "    conn.close()\n",
    "\n",
    "    # Return the fetched data as a DataFrame\n",
    "    return df\n",
    "\n",
    "# Fetch the customer reviews data from the SQL database\n",
    "customer_reviews_df = fetch_data_from_sql()\n",
    "\n",
    "# Display the first few rows of the DataFrame\n",
    "print(customer_reviews_df.head())\n"
   ]
  },
  {
   "cell_type": "code",
   "execution_count": 17,
   "id": "008b7acc-6e26-4862-b51d-3767201d8c19",
   "metadata": {},
   "outputs": [
    {
     "name": "stdout",
     "output_type": "stream",
     "text": [
      "   reviewid  customerid  productid  reviewdate  rating  \\\n",
      "0         1          77         18  2023-12-23       3   \n",
      "1         2          80         19  2024-12-25       5   \n",
      "2         3          50         13  2025-01-26       4   \n",
      "3         4          78         15  2025-04-21       3   \n",
      "4         5          64          2  2023-07-16       3   \n",
      "\n",
      "                                 reviewtext  SentimentScore SentimentCategory  \\\n",
      "0   Average  experience,  nothing  special.         -0.3089    Mixed Negative   \n",
      "1            The  quality  is    top-notch.          0.0000          Positive   \n",
      "2   Five  stars  for  the  quick  delivery.          0.0000          Positive   \n",
      "3  Good  quality,  but  could  be  cheaper.          0.2382    Mixed Positive   \n",
      "4   Average  experience,  nothing  special.         -0.3089    Mixed Negative   \n",
      "\n",
      "  SentimentBucket  \n",
      "0    -0.49 to 0.0  \n",
      "1     0.0 to 0.49  \n",
      "2     0.0 to 0.49  \n",
      "3     0.0 to 0.49  \n",
      "4    -0.49 to 0.0  \n"
     ]
    }
   ],
   "source": [
    "# Initialize the VADER sentiment intensity analyzer for analyzing the sentiment of text data\n",
    "sia = SentimentIntensityAnalyzer()\n",
    "\n",
    "# Define a function to calculate sentiment scores using VADER\n",
    "def calculate_sentiment(review):\n",
    "    # Get the sentiment scores for the review text\n",
    "    sentiment = sia.polarity_scores(review)\n",
    "    # Return the compound score, which is a normalized score between -1 (most negative) and 1 (most positive)\n",
    "    return sentiment['compound']\n",
    "    \n",
    "# Define a function to categorize sentiment using both the sentiment score and the review rating\n",
    "def categorize_sentiment(score, rating):\n",
    "    # Use both the text sentiment score and the numerical rating to determine sentiment category\n",
    "    if score > 0.05:  # Positive sentiment score\n",
    "        if rating >= 4:\n",
    "            return 'Positive'  # High rating and positive sentiment\n",
    "        elif rating == 3:\n",
    "            return 'Mixed Positive'  # Neutral rating but positive sentiment\n",
    "        else:\n",
    "            return 'Mixed Negative'  # Low rating but positive sentiment\n",
    "    elif score < -0.05:  # Negative sentiment score\n",
    "        if rating <= 2:\n",
    "            return 'Negative'  # Low rating and negative sentiment\n",
    "        elif rating == 3:\n",
    "            return 'Mixed Negative'  # Neutral rating but negative sentiment\n",
    "        else:\n",
    "            return 'Mixed Positive'  # High rating but negative sentiment\n",
    "    else:  # Neutral sentiment score\n",
    "        if rating >= 4:\n",
    "            return 'Positive'  # High rating with neutral sentiment\n",
    "        elif rating <= 2:\n",
    "            return 'Negative'  # Low rating with neutral sentiment\n",
    "        else:\n",
    "            return 'Neutral'  # Neutral rating and neutral sentiment\n",
    "\n",
    "# Define a function to bucket sentiment scores into text ranges\n",
    "def sentiment_bucket(score):\n",
    "    if score >= 0.5:\n",
    "        return '0.5 to 1.0'  # Strongly positive sentiment\n",
    "    elif 0.0 <= score < 0.5:\n",
    "        return '0.0 to 0.49'  # Mildly positive sentiment\n",
    "    elif -0.5 <= score < 0.0:\n",
    "        return '-0.49 to 0.0'  # Mildly negative sentiment\n",
    "    else:\n",
    "        return '-1.0 to -0.5'  # Strongly negative sentiment\n",
    "\n",
    "\n",
    "# Apply sentiment analysis to calculate sentiment scores for each review\n",
    "customer_reviews_df['SentimentScore'] = customer_reviews_df['reviewtext'].apply(calculate_sentiment)\n",
    "\n",
    "# Apply sentiment categorization using both text and rating\n",
    "customer_reviews_df['SentimentCategory'] = customer_reviews_df.apply(lambda row: categorize_sentiment(row['SentimentScore'], row['rating']), axis=1)\n",
    "\n",
    "# Apply sentiment bucketing to categorize scores into defined ranges\n",
    "customer_reviews_df['SentimentBucket'] = customer_reviews_df['SentimentScore'].apply(sentiment_bucket)\n",
    "\n",
    "# Display the first few rows of the DataFrame with sentiment scores, categories, and buckets\n",
    "print(customer_reviews_df.head())\n",
    "\n",
    "customer_reviews_df.to_csv('fact_customer_reviews_with_sentiment.csv', index=False)"
   ]
  }
 ],
 "metadata": {
  "kernelspec": {
   "display_name": "Python 3 (ipykernel)",
   "language": "python",
   "name": "python3"
  },
  "language_info": {
   "codemirror_mode": {
    "name": "ipython",
    "version": 3
   },
   "file_extension": ".py",
   "mimetype": "text/x-python",
   "name": "python",
   "nbconvert_exporter": "python",
   "pygments_lexer": "ipython3",
   "version": "3.12.7"
  }
 },
 "nbformat": 4,
 "nbformat_minor": 5
}
